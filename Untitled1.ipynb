{
  "nbformat": 4,
  "nbformat_minor": 0,
  "metadata": {
    "colab": {
      "provenance": [],
      "authorship_tag": "ABX9TyMC0e4+JMt11SCjrP0uiaKd",
      "include_colab_link": true
    },
    "kernelspec": {
      "name": "python3",
      "display_name": "Python 3"
    },
    "language_info": {
      "name": "python"
    }
  },
  "cells": [
    {
      "cell_type": "markdown",
      "metadata": {
        "id": "view-in-github",
        "colab_type": "text"
      },
      "source": [
        "<a href=\"https://colab.research.google.com/github/kiril1232/lab_6/blob/master/Untitled1.ipynb\" target=\"_parent\"><img src=\"https://colab.research.google.com/assets/colab-badge.svg\" alt=\"Open In Colab\"/></a>"
      ]
    },
    {
      "cell_type": "code",
      "execution_count": 10,
      "metadata": {
        "id": "NKseivlWD2UA"
      },
      "outputs": [],
      "source": [
        "from keras.datasets import boston_housing\n",
        "from keras.models import Sequential\n",
        "from keras.layers import Dense"
      ]
    },
    {
      "cell_type": "code",
      "source": [
        "(x_train, y_train), (x_test, y_test) = boston_housing.load_data()"
      ],
      "metadata": {
        "id": "WYN-kB9XD6_O"
      },
      "execution_count": 11,
      "outputs": []
    },
    {
      "cell_type": "code",
      "source": [
        "# Середнє значення\n",
        "mean = x_train.mean(axis=0)\n",
        "# Стандартне відхилення\n",
        "std = x_train.std(axis=0)\n",
        "x_train -= mean\n",
        "x_train /= std\n",
        "x_test -= mean\n",
        "x_test /= std"
      ],
      "metadata": {
        "id": "VBhDeTAmEAoW"
      },
      "execution_count": 12,
      "outputs": []
    },
    {
      "cell_type": "code",
      "source": [
        "# Створюємо модель\n",
        "model = Sequential()\n",
        "model.add(Dense(128, activation='relu', input_shape=(x_train.shape[1],)))\n",
        "model.add(Dense(1))\n",
        "model.compile(optimizer='adam', loss='mse', metrics=['mae'])"
      ],
      "metadata": {
        "id": "BDje8PSmEEP6"
      },
      "execution_count": 13,
      "outputs": []
    },
    {
      "cell_type": "code",
      "source": [
        "# Навчання моделі\n",
        "model.fit(x_train, y_train, epochs=100, batch_size=1, verbose=2)"
      ],
      "metadata": {
        "colab": {
          "base_uri": "https://localhost:8080/"
        },
        "id": "EhS37OmREFi0",
        "outputId": "efa8e8a8-3978-4f32-86fe-ef3e31b64ad9"
      },
      "execution_count": 14,
      "outputs": [
        {
          "output_type": "stream",
          "name": "stdout",
          "text": [
            "Epoch 1/100\n",
            "404/404 - 1s - loss: 311.0797 - mae: 14.9121 - 1s/epoch - 3ms/step\n",
            "Epoch 2/100\n",
            "404/404 - 0s - loss: 42.9988 - mae: 4.6369 - 500ms/epoch - 1ms/step\n",
            "Epoch 3/100\n",
            "404/404 - 1s - loss: 25.1996 - mae: 3.4591 - 530ms/epoch - 1ms/step\n",
            "Epoch 4/100\n",
            "404/404 - 1s - loss: 20.8438 - mae: 3.1673 - 508ms/epoch - 1ms/step\n",
            "Epoch 5/100\n",
            "404/404 - 1s - loss: 18.1632 - mae: 2.9761 - 518ms/epoch - 1ms/step\n",
            "Epoch 6/100\n",
            "404/404 - 1s - loss: 15.7924 - mae: 2.8164 - 507ms/epoch - 1ms/step\n",
            "Epoch 7/100\n",
            "404/404 - 1s - loss: 13.9512 - mae: 2.6038 - 659ms/epoch - 2ms/step\n",
            "Epoch 8/100\n",
            "404/404 - 1s - loss: 12.5721 - mae: 2.4603 - 720ms/epoch - 2ms/step\n",
            "Epoch 9/100\n",
            "404/404 - 1s - loss: 11.3387 - mae: 2.3939 - 702ms/epoch - 2ms/step\n",
            "Epoch 10/100\n",
            "404/404 - 1s - loss: 10.7607 - mae: 2.2910 - 736ms/epoch - 2ms/step\n",
            "Epoch 11/100\n",
            "404/404 - 1s - loss: 10.0109 - mae: 2.1956 - 522ms/epoch - 1ms/step\n",
            "Epoch 12/100\n",
            "404/404 - 1s - loss: 9.6027 - mae: 2.1942 - 502ms/epoch - 1ms/step\n",
            "Epoch 13/100\n",
            "404/404 - 1s - loss: 9.4214 - mae: 2.1854 - 517ms/epoch - 1ms/step\n",
            "Epoch 14/100\n",
            "404/404 - 1s - loss: 9.0726 - mae: 2.1603 - 502ms/epoch - 1ms/step\n",
            "Epoch 15/100\n",
            "404/404 - 1s - loss: 8.7397 - mae: 2.0914 - 506ms/epoch - 1ms/step\n",
            "Epoch 16/100\n",
            "404/404 - 0s - loss: 8.8846 - mae: 2.0988 - 495ms/epoch - 1ms/step\n",
            "Epoch 17/100\n",
            "404/404 - 0s - loss: 8.2905 - mae: 2.0646 - 498ms/epoch - 1ms/step\n",
            "Epoch 18/100\n",
            "404/404 - 1s - loss: 8.2806 - mae: 2.0233 - 512ms/epoch - 1ms/step\n",
            "Epoch 19/100\n",
            "404/404 - 0s - loss: 8.3143 - mae: 2.0217 - 498ms/epoch - 1ms/step\n",
            "Epoch 20/100\n",
            "404/404 - 1s - loss: 8.0713 - mae: 2.0026 - 740ms/epoch - 2ms/step\n",
            "Epoch 21/100\n",
            "404/404 - 1s - loss: 7.7367 - mae: 1.9499 - 701ms/epoch - 2ms/step\n",
            "Epoch 22/100\n",
            "404/404 - 1s - loss: 7.7503 - mae: 1.9702 - 574ms/epoch - 1ms/step\n",
            "Epoch 23/100\n",
            "404/404 - 1s - loss: 7.7005 - mae: 1.9578 - 605ms/epoch - 1ms/step\n",
            "Epoch 24/100\n",
            "404/404 - 1s - loss: 7.5068 - mae: 1.9061 - 520ms/epoch - 1ms/step\n",
            "Epoch 25/100\n",
            "404/404 - 1s - loss: 7.2745 - mae: 1.8937 - 524ms/epoch - 1ms/step\n",
            "Epoch 26/100\n",
            "404/404 - 1s - loss: 7.2121 - mae: 1.8871 - 517ms/epoch - 1ms/step\n",
            "Epoch 27/100\n",
            "404/404 - 0s - loss: 6.8722 - mae: 1.9077 - 491ms/epoch - 1ms/step\n",
            "Epoch 28/100\n",
            "404/404 - 1s - loss: 6.9438 - mae: 1.8480 - 512ms/epoch - 1ms/step\n",
            "Epoch 29/100\n",
            "404/404 - 1s - loss: 6.9806 - mae: 1.8726 - 590ms/epoch - 1ms/step\n",
            "Epoch 30/100\n",
            "404/404 - 1s - loss: 6.8912 - mae: 1.8648 - 733ms/epoch - 2ms/step\n",
            "Epoch 31/100\n",
            "404/404 - 1s - loss: 6.7846 - mae: 1.8357 - 727ms/epoch - 2ms/step\n",
            "Epoch 32/100\n",
            "404/404 - 1s - loss: 6.6759 - mae: 1.8667 - 688ms/epoch - 2ms/step\n",
            "Epoch 33/100\n",
            "404/404 - 1s - loss: 6.7800 - mae: 1.8050 - 604ms/epoch - 1ms/step\n",
            "Epoch 34/100\n",
            "404/404 - 0s - loss: 6.3592 - mae: 1.7687 - 496ms/epoch - 1ms/step\n",
            "Epoch 35/100\n",
            "404/404 - 1s - loss: 6.6763 - mae: 1.7962 - 511ms/epoch - 1ms/step\n",
            "Epoch 36/100\n",
            "404/404 - 1s - loss: 6.4662 - mae: 1.8303 - 503ms/epoch - 1ms/step\n",
            "Epoch 37/100\n",
            "404/404 - 1s - loss: 6.5161 - mae: 1.8236 - 509ms/epoch - 1ms/step\n",
            "Epoch 38/100\n",
            "404/404 - 1s - loss: 6.5281 - mae: 1.8182 - 509ms/epoch - 1ms/step\n",
            "Epoch 39/100\n",
            "404/404 - 1s - loss: 6.1693 - mae: 1.7652 - 501ms/epoch - 1ms/step\n",
            "Epoch 40/100\n",
            "404/404 - 0s - loss: 6.3563 - mae: 1.7718 - 496ms/epoch - 1ms/step\n",
            "Epoch 41/100\n",
            "404/404 - 1s - loss: 6.3524 - mae: 1.7986 - 519ms/epoch - 1ms/step\n",
            "Epoch 42/100\n",
            "404/404 - 1s - loss: 6.2084 - mae: 1.7513 - 506ms/epoch - 1ms/step\n",
            "Epoch 43/100\n",
            "404/404 - 1s - loss: 6.3018 - mae: 1.7350 - 518ms/epoch - 1ms/step\n",
            "Epoch 44/100\n",
            "404/404 - 1s - loss: 5.8702 - mae: 1.7287 - 507ms/epoch - 1ms/step\n",
            "Epoch 45/100\n",
            "404/404 - 1s - loss: 6.1368 - mae: 1.7334 - 515ms/epoch - 1ms/step\n",
            "Epoch 46/100\n",
            "404/404 - 1s - loss: 5.9583 - mae: 1.7071 - 519ms/epoch - 1ms/step\n",
            "Epoch 47/100\n",
            "404/404 - 1s - loss: 5.7633 - mae: 1.6816 - 512ms/epoch - 1ms/step\n",
            "Epoch 48/100\n",
            "404/404 - 1s - loss: 5.8137 - mae: 1.7173 - 509ms/epoch - 1ms/step\n",
            "Epoch 49/100\n",
            "404/404 - 0s - loss: 5.6464 - mae: 1.6622 - 491ms/epoch - 1ms/step\n",
            "Epoch 50/100\n",
            "404/404 - 0s - loss: 5.7789 - mae: 1.7197 - 500ms/epoch - 1ms/step\n",
            "Epoch 51/100\n",
            "404/404 - 1s - loss: 5.6437 - mae: 1.7071 - 501ms/epoch - 1ms/step\n",
            "Epoch 52/100\n",
            "404/404 - 0s - loss: 5.7649 - mae: 1.6885 - 494ms/epoch - 1ms/step\n",
            "Epoch 53/100\n",
            "404/404 - 1s - loss: 5.7541 - mae: 1.6963 - 688ms/epoch - 2ms/step\n",
            "Epoch 54/100\n",
            "404/404 - 1s - loss: 5.7735 - mae: 1.7244 - 713ms/epoch - 2ms/step\n",
            "Epoch 55/100\n",
            "404/404 - 1s - loss: 5.5818 - mae: 1.6471 - 699ms/epoch - 2ms/step\n",
            "Epoch 56/100\n",
            "404/404 - 1s - loss: 5.4486 - mae: 1.6186 - 689ms/epoch - 2ms/step\n",
            "Epoch 57/100\n",
            "404/404 - 1s - loss: 5.4165 - mae: 1.6327 - 506ms/epoch - 1ms/step\n",
            "Epoch 58/100\n",
            "404/404 - 0s - loss: 5.6036 - mae: 1.6738 - 496ms/epoch - 1ms/step\n",
            "Epoch 59/100\n",
            "404/404 - 0s - loss: 5.3169 - mae: 1.6583 - 486ms/epoch - 1ms/step\n",
            "Epoch 60/100\n",
            "404/404 - 0s - loss: 5.4273 - mae: 1.6511 - 497ms/epoch - 1ms/step\n",
            "Epoch 61/100\n",
            "404/404 - 1s - loss: 5.3496 - mae: 1.6538 - 762ms/epoch - 2ms/step\n",
            "Epoch 62/100\n",
            "404/404 - 0s - loss: 5.1690 - mae: 1.6107 - 496ms/epoch - 1ms/step\n",
            "Epoch 63/100\n",
            "404/404 - 1s - loss: 5.0764 - mae: 1.5982 - 701ms/epoch - 2ms/step\n",
            "Epoch 64/100\n",
            "404/404 - 0s - loss: 5.5027 - mae: 1.6789 - 500ms/epoch - 1ms/step\n",
            "Epoch 65/100\n",
            "404/404 - 1s - loss: 5.2032 - mae: 1.5883 - 508ms/epoch - 1ms/step\n",
            "Epoch 66/100\n",
            "404/404 - 1s - loss: 5.1351 - mae: 1.6022 - 503ms/epoch - 1ms/step\n",
            "Epoch 67/100\n",
            "404/404 - 1s - loss: 5.0509 - mae: 1.5848 - 510ms/epoch - 1ms/step\n",
            "Epoch 68/100\n",
            "404/404 - 0s - loss: 4.9847 - mae: 1.5808 - 497ms/epoch - 1ms/step\n",
            "Epoch 69/100\n",
            "404/404 - 1s - loss: 5.1779 - mae: 1.6245 - 512ms/epoch - 1ms/step\n",
            "Epoch 70/100\n",
            "404/404 - 0s - loss: 5.1699 - mae: 1.6205 - 497ms/epoch - 1ms/step\n",
            "Epoch 71/100\n",
            "404/404 - 1s - loss: 5.1145 - mae: 1.6195 - 509ms/epoch - 1ms/step\n",
            "Epoch 72/100\n",
            "404/404 - 0s - loss: 4.8818 - mae: 1.5381 - 494ms/epoch - 1ms/step\n",
            "Epoch 73/100\n",
            "404/404 - 0s - loss: 4.9981 - mae: 1.6023 - 499ms/epoch - 1ms/step\n",
            "Epoch 74/100\n",
            "404/404 - 1s - loss: 4.8651 - mae: 1.5798 - 504ms/epoch - 1ms/step\n",
            "Epoch 75/100\n",
            "404/404 - 1s - loss: 4.9456 - mae: 1.5645 - 503ms/epoch - 1ms/step\n",
            "Epoch 76/100\n",
            "404/404 - 1s - loss: 4.9293 - mae: 1.5746 - 716ms/epoch - 2ms/step\n",
            "Epoch 77/100\n",
            "404/404 - 1s - loss: 4.7644 - mae: 1.5382 - 698ms/epoch - 2ms/step\n",
            "Epoch 78/100\n",
            "404/404 - 1s - loss: 4.5792 - mae: 1.4989 - 687ms/epoch - 2ms/step\n",
            "Epoch 79/100\n",
            "404/404 - 1s - loss: 4.6747 - mae: 1.5309 - 715ms/epoch - 2ms/step\n",
            "Epoch 80/100\n",
            "404/404 - 0s - loss: 4.6063 - mae: 1.4852 - 490ms/epoch - 1ms/step\n",
            "Epoch 81/100\n",
            "404/404 - 0s - loss: 4.6637 - mae: 1.5076 - 485ms/epoch - 1ms/step\n",
            "Epoch 82/100\n",
            "404/404 - 1s - loss: 4.6376 - mae: 1.5001 - 500ms/epoch - 1ms/step\n",
            "Epoch 83/100\n",
            "404/404 - 0s - loss: 4.5881 - mae: 1.5091 - 499ms/epoch - 1ms/step\n",
            "Epoch 84/100\n",
            "404/404 - 0s - loss: 4.6042 - mae: 1.4997 - 497ms/epoch - 1ms/step\n",
            "Epoch 85/100\n",
            "404/404 - 0s - loss: 4.6438 - mae: 1.5169 - 494ms/epoch - 1ms/step\n",
            "Epoch 86/100\n",
            "404/404 - 1s - loss: 4.5983 - mae: 1.5172 - 505ms/epoch - 1ms/step\n",
            "Epoch 87/100\n",
            "404/404 - 1s - loss: 4.5014 - mae: 1.4997 - 528ms/epoch - 1ms/step\n",
            "Epoch 88/100\n",
            "404/404 - 0s - loss: 4.5533 - mae: 1.5204 - 498ms/epoch - 1ms/step\n",
            "Epoch 89/100\n",
            "404/404 - 0s - loss: 4.3541 - mae: 1.4657 - 499ms/epoch - 1ms/step\n",
            "Epoch 90/100\n",
            "404/404 - 1s - loss: 4.3611 - mae: 1.4489 - 512ms/epoch - 1ms/step\n",
            "Epoch 91/100\n",
            "404/404 - 1s - loss: 4.5071 - mae: 1.5008 - 511ms/epoch - 1ms/step\n",
            "Epoch 92/100\n",
            "404/404 - 1s - loss: 4.4401 - mae: 1.4937 - 505ms/epoch - 1ms/step\n",
            "Epoch 93/100\n",
            "404/404 - 1s - loss: 4.2575 - mae: 1.4811 - 507ms/epoch - 1ms/step\n",
            "Epoch 94/100\n",
            "404/404 - 1s - loss: 4.2827 - mae: 1.4502 - 520ms/epoch - 1ms/step\n",
            "Epoch 95/100\n",
            "404/404 - 1s - loss: 4.3229 - mae: 1.4686 - 516ms/epoch - 1ms/step\n",
            "Epoch 96/100\n",
            "404/404 - 1s - loss: 4.3643 - mae: 1.4726 - 510ms/epoch - 1ms/step\n",
            "Epoch 97/100\n",
            "404/404 - 1s - loss: 4.2590 - mae: 1.4577 - 508ms/epoch - 1ms/step\n",
            "Epoch 98/100\n",
            "404/404 - 1s - loss: 4.0399 - mae: 1.4374 - 517ms/epoch - 1ms/step\n",
            "Epoch 99/100\n",
            "404/404 - 1s - loss: 4.3037 - mae: 1.4755 - 587ms/epoch - 1ms/step\n",
            "Epoch 100/100\n",
            "404/404 - 1s - loss: 4.0773 - mae: 1.4444 - 721ms/epoch - 2ms/step\n"
          ]
        },
        {
          "output_type": "execute_result",
          "data": {
            "text/plain": [
              "<keras.callbacks.History at 0x7f3dd375ddb0>"
            ]
          },
          "metadata": {},
          "execution_count": 14
        }
      ]
    },
    {
      "cell_type": "code",
      "source": [
        "# Оцінка точності моделі\n",
        "mse, mae = model.evaluate(x_test, y_test, verbose=0)\n",
        "\n",
        "print(\"Середня абсолютна помилка (тисяч доларів):\", mae)"
      ],
      "metadata": {
        "colab": {
          "base_uri": "https://localhost:8080/"
        },
        "id": "PrXK1icmFeY-",
        "outputId": "6e4600dd-fe63-4abe-c26a-d7e061cacb5f"
      },
      "execution_count": 15,
      "outputs": [
        {
          "output_type": "stream",
          "name": "stdout",
          "text": [
            "Середня абсолютна помилка (тисяч доларів): 2.340902328491211\n"
          ]
        }
      ]
    },
    {
      "cell_type": "code",
      "source": [
        "# Прогнозування\n",
        "pred = model.predict(x_test)\n",
        "\n",
        "print(\"Передбачена вартість:\", pred[1][0], \", правильна вартість:\", y_test[1])"
      ],
      "metadata": {
        "colab": {
          "base_uri": "https://localhost:8080/"
        },
        "id": "XFjyK1eUFfbB",
        "outputId": "ef0c870e-4377-4110-bfd9-2940f839ac7b"
      },
      "execution_count": 16,
      "outputs": [
        {
          "output_type": "stream",
          "name": "stdout",
          "text": [
            "4/4 [==============================] - 0s 3ms/step\n",
            "Передбачена вартість: 18.389944 , правильна вартість: 18.8\n"
          ]
        }
      ]
    }
  ]
}